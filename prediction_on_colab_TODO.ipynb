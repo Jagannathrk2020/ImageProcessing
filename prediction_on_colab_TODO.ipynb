{
  "nbformat": 4,
  "nbformat_minor": 0,
  "metadata": {
    "colab": {
      "name": "prediction-on-colab-TODO.ipynb",
      "version": "0.3.2",
      "provenance": [],
      "collapsed_sections": [],
      "include_colab_link": true
    },
    "kernelspec": {
      "display_name": "Python 3",
      "language": "python",
      "name": "python3"
    },
    "accelerator": "GPU"
  },
  "cells": [
    {
      "cell_type": "markdown",
      "metadata": {
        "id": "view-in-github",
        "colab_type": "text"
      },
      "source": [
        "[View in Colaboratory](https://colab.research.google.com/github/mingweihe/ImageNet/blob/master/prediction_on_colab_TODO.ipynb)"
      ]
    },
    {
      "metadata": {
        "id": "YJaLeZZIbe-B",
        "colab_type": "code",
        "colab": {
          "base_uri": "https://localhost:8080/",
          "height": 51
        },
        "outputId": "cebf1f68-cc27-4318-dcf1-b6316b7af0d6"
      },
      "cell_type": "code",
      "source": [
        "#------------------------------------------------\n",
        "#    Training and Test data set preparation\n",
        "#------------------------------------------------\n",
        "# !rm -rf checkpoints && rm -rf *.zip\n",
        "!pip install -U -q PyDrive\n",
        "import os\n",
        "from pydrive.auth import GoogleAuth\n",
        "from pydrive.drive import GoogleDrive\n",
        "from google.colab import auth\n",
        "from oauth2client.client import GoogleCredentials\n",
        "from IPython.display import clear_output\n",
        "\n",
        "# 1. Authenticate and create the PyDrive client.\n",
        "auth.authenticate_user()\n",
        "gauth = GoogleAuth()\n",
        "gauth.credentials = GoogleCredentials.get_application_default()\n",
        "drive = GoogleDrive(gauth)\n",
        "\n",
        "# 2. Downloading hafl trained model\n",
        "local_download_path = os.path.expanduser('~')\n",
        "file_list = drive.ListFile(\n",
        "    {'q': \"'1qJP7EQ19JWVg7nG7njpC2Of5Pb8WsSIN' in parents\"}).GetList()\n",
        "\n",
        "for f in file_list:\n",
        "  # 3. Create & download by id.\n",
        "  print('title: %s, id: %s' % (f['title'], f['id']))\n",
        "  fname = os.path.join(local_download_path, f['title'])\n",
        "  print('downloading to {}'.format(fname))\n",
        "  f_ = drive.CreateFile({'id': f['id']})\n",
        "  f_.GetContentFile(fname)\n",
        "\n",
        "# !unzip /content/*.zip\n",
        "# clear_output()"
      ],
      "execution_count": 0,
      "outputs": [
        {
          "output_type": "stream",
          "text": [
            "title: test.tar.gz, id: 17ZKh13biDYODOCQLjXmXJJikib2hLzEp\n",
            "downloading to /root/test.tar.gz\n"
          ],
          "name": "stdout"
        }
      ]
    },
    {
      "metadata": {
        "id": "liXZtHPP1ztQ",
        "colab_type": "code",
        "colab": {
          "base_uri": "https://localhost:8080/",
          "height": 34
        },
        "outputId": "5400c135-331b-4e40-95ed-979433827508"
      },
      "cell_type": "code",
      "source": [
        "!ls"
      ],
      "execution_count": 1,
      "outputs": [
        {
          "output_type": "stream",
          "text": [
            "adc.json  sample_data\r\n"
          ],
          "name": "stdout"
        }
      ]
    },
    {
      "metadata": {
        "id": "M8h00KEOGc-P",
        "colab_type": "code",
        "colab": {}
      },
      "cell_type": "code",
      "source": [
        "import tensorflow as tf\n",
        "import numpy as np\n",
        "import random\n",
        "import matplotlib.pyplot as plt\n",
        "import time\n",
        "import os"
      ],
      "execution_count": 0,
      "outputs": []
    },
    {
      "metadata": {
        "id": "lReNlvi6VZQV",
        "colab_type": "code",
        "colab": {}
      },
      "cell_type": "code",
      "source": [
        "# Set parameters\n",
        "chkp_dir = os.path.join('checkpoints', 'cnnGesture')\n",
        "chkp_name = 'model'"
      ],
      "execution_count": 0,
      "outputs": []
    },
    {
      "metadata": {
        "id": "WtYcPcn7VZQY",
        "colab_type": "code",
        "colab": {}
      },
      "cell_type": "code",
      "source": [
        "# images plotting function\n",
        "def plotImg(imgs, titles = None):\n",
        "    fig = plt.figure()\n",
        "    for i in range(len(imgs)):\n",
        "        ax = fig.add_subplot(1, len(imgs), i + 1)\n",
        "        if titles != None:\n",
        "            ax.title.set_text(titles[i])\n",
        "        plt.imshow(imgs[i])\n",
        "        plt.axis('off')\n",
        "    plt.show()"
      ],
      "execution_count": 0,
      "outputs": []
    },
    {
      "metadata": {
        "id": "OSEdoLfqGdAV",
        "colab_type": "code",
        "colab": {
          "base_uri": "https://localhost:8080/",
          "height": 34
        },
        "outputId": "68b76aee-d632-4173-87e2-d72e5fb3c31e"
      },
      "cell_type": "code",
      "source": [
        "# restore checkpoint\n",
        "sessRes = tf.Session()\n",
        "saver = tf.train.import_meta_graph(os.path.join(chkp_dir, 'model.meta'))\n",
        "saver.restore(sessRes, tf.train.latest_checkpoint(chkp_dir))"
      ],
      "execution_count": 0,
      "outputs": [
        {
          "output_type": "stream",
          "text": [
            "INFO:tensorflow:Restoring parameters from checkpoints/cnnGesture/model\n"
          ],
          "name": "stdout"
        }
      ]
    },
    {
      "metadata": {
        "id": "SqvCis4YHpSX",
        "colab_type": "code",
        "colab": {
          "base_uri": "https://localhost:8080/",
          "height": 119
        },
        "outputId": "7efb3a33-3ef4-4d7c-e6b8-6acb6ce5b98c"
      },
      "cell_type": "code",
      "source": [
        "# variable and tensor initialization\n",
        "img_holder = sessRes.graph.get_tensor_by_name('img_holder:0')\n",
        "lbl_holder =sessRes.graph.get_tensor_by_name('lbl_holder:0')\n",
        "loss=sessRes.graph.get_tensor_by_name('loss:0')\n",
        "accuracy=tf.get_default_graph().get_tensor_by_name('accuracy:0')\n",
        "optimizer=tf.get_default_graph().get_tensor_by_name('optimizer:0')\n",
        "predict=tf.get_default_graph().get_tensor_by_name('prediction:0')\n",
        "train = sessRes.graph.get_tensor_by_name('train_bool:0')\n",
        "log_dir = sessRes.run('log_dir:0').decode('utf-8')\n",
        "test_total = sessRes.run('test_total:0')\n",
        "train_total = sessRes.run('train_total:0')\n",
        "num_epochs = sessRes.run('num_epochs:0')\n",
        "batch_size = sessRes.run('batch_size:0')\n",
        "global_step = sessRes.run('global_step:0')\n",
        "global_epoch = int(global_step*batch_size/train_total)\n",
        "# # tensorboard\n",
        "# summary_loss = tf.summary.scalar('loss', loss)\n",
        "# summary_accuracy = tf.summary.scalar('accuracy', accuracy)\n",
        "# merged_op = tf.summary.merge([summary_loss, summary_accuracy])\n",
        "# # Create FileWriter\n",
        "# file_writer = tf.summary.FileWriter(log_dir, graph=tf.get_default_graph())\n",
        "print('number of epoch for each training:', num_epochs)\n",
        "print('batch size of each step:', batch_size)\n",
        "print('total test set:', test_total)\n",
        "print('total train set:', train_total)\n",
        "print('global steps:', global_step)\n",
        "print('global epochs:', global_epoch)"
      ],
      "execution_count": 0,
      "outputs": [
        {
          "output_type": "stream",
          "text": [
            "number of epoch for each training: 10\n",
            "batch size of each step: 10\n",
            "total test set: 369\n",
            "total train set: 15819\n",
            "global steps: 47457\n",
            "global epochs: 30\n"
          ],
          "name": "stdout"
        }
      ]
    },
    {
      "metadata": {
        "id": "u1LGYolfIZSd",
        "colab_type": "code",
        "colab": {
          "base_uri": "https://localhost:8080/",
          "height": 34
        },
        "outputId": "f4fb0b5a-0629-4b43-9070-d4533bf40ae7"
      },
      "cell_type": "code",
      "source": [
        "# session to exexute queuing\n",
        "# restore checkpoint\n",
        "sess4Q = tf.Session()\n",
        "saver4Q = tf.train.import_meta_graph(os.path.join(chkp_dir, 'model.meta'))\n",
        "saver4Q.restore(sess4Q, tf.train.latest_checkpoint(chkp_dir))\n",
        "batchTrainData = sess4Q.graph.get_tensor_by_name('batchTrainData:0')\n",
        "batchTrainLabel = sess4Q.graph.get_tensor_by_name('batchTrainData:1')\n",
        "totalTestData = sess4Q.graph.get_tensor_by_name('totalTestData:0')\n",
        "totalTestLabel = sess4Q.graph.get_tensor_by_name('totalTestData:1')\n",
        "sess4Q.run(tf.local_variables_initializer())\n",
        "coord=tf.train.Coordinator()\n",
        "threads=tf.train.start_queue_runners(sess=sess4Q,coord=coord)"
      ],
      "execution_count": 0,
      "outputs": [
        {
          "output_type": "stream",
          "text": [
            "INFO:tensorflow:Restoring parameters from checkpoints/cnnGesture/model\n"
          ],
          "name": "stdout"
        }
      ]
    },
    {
      "metadata": {
        "id": "Mj40oy8Oev6O",
        "colab_type": "code",
        "colab": {
          "base_uri": "https://localhost:8080/",
          "height": 2601
        },
        "outputId": "c0c5f4ef-618c-43ee-d9b3-0247e4a3051d"
      },
      "cell_type": "code",
      "source": [
        "try:\n",
        "    test_images,test_labels = sess4Q.run([totalTestData, totalTestLabel])\n",
        "    batch_i = 1\n",
        "    total_batch = 0\n",
        "    local_epoch = 1\n",
        "    start_time = time.time()\n",
        "    while not coord.should_stop():\n",
        "        imgs, labels = sess4Q.run([batchTrainData,batchTrainLabel])\n",
        "        sessRes.run(optimizer, feed_dict={img_holder:imgs,lbl_holder:labels,train: True})\n",
        "#         loss_val, accuracy_val, summary = sessRes.run([loss, accuracy, merged_op],feed_dict={img_holder:imgs,lbl_holder:labels,train: False})\n",
        "#         # Print the summary data\n",
        "#         file_writer.add_summary(summary)\n",
        "        if batch_i % 100 == 0:\n",
        "            loss_val, accuracy_val = sessRes.run([loss, accuracy],feed_dict={img_holder:imgs,lbl_holder:labels,train: False})\n",
        "            test_accuracy = sessRes.run(accuracy, feed_dict={img_holder:test_images[169:269],lbl_holder:test_labels[169:269],train: False})\n",
        "#             file_writer.flush()\n",
        "            duration = time.time() - start_time\n",
        "            print('epoch:', str(local_epoch)+ '/' +str(num_epochs), 'batch:', batch_i, 'loss:', \n",
        "                  loss_val, 'cur_accuracy:', accuracy_val, 'test_accuracy:', test_accuracy, 'duration: %.3fs' % duration)\n",
        "            start_time = time.time()\n",
        "        batch_i += 1\n",
        "        total_batch += batch_size\n",
        "        if total_batch >= train_total:\n",
        "            local_epoch += 1\n",
        "            total_batch = 0\n",
        "            batch_i = 1\n",
        "except tf.errors.OutOfRangeError:\n",
        "    print('Done.')\n",
        "except Exception as e:\n",
        "    coord.request_stop(e)\n",
        "finally:\n",
        "    coord.request_stop()\n",
        "coord.join(threads)\n",
        "sess4Q.close()\n",
        "# save training result\n",
        "saver.save(sessRes, os.path.join(chkp_dir, chkp_name))"
      ],
      "execution_count": 0,
      "outputs": [
        {
          "output_type": "stream",
          "text": [
            "epoch: 1/10 batch: 100 loss: 0.0 cur_accuracy: 1.0 test_accuracy: 0.69 duration: 21.391s\n",
            "epoch: 1/10 batch: 200 loss: 0.0 cur_accuracy: 1.0 test_accuracy: 0.72 duration: 16.119s\n",
            "epoch: 1/10 batch: 300 loss: 0.0 cur_accuracy: 1.0 test_accuracy: 0.69 duration: 16.129s\n",
            "epoch: 1/10 batch: 400 loss: 0.0 cur_accuracy: 1.0 test_accuracy: 0.64 duration: 16.070s\n",
            "epoch: 1/10 batch: 500 loss: 3.006787 cur_accuracy: 0.9 test_accuracy: 0.67 duration: 16.140s\n",
            "epoch: 1/10 batch: 600 loss: 0.0 cur_accuracy: 1.0 test_accuracy: 0.61 duration: 16.116s\n",
            "epoch: 1/10 batch: 700 loss: 0.0 cur_accuracy: 1.0 test_accuracy: 0.61 duration: 16.110s\n",
            "epoch: 1/10 batch: 800 loss: 0.0 cur_accuracy: 1.0 test_accuracy: 0.57 duration: 16.119s\n",
            "epoch: 1/10 batch: 900 loss: 0.0 cur_accuracy: 1.0 test_accuracy: 0.73 duration: 16.195s\n",
            "epoch: 1/10 batch: 1000 loss: 0.0 cur_accuracy: 1.0 test_accuracy: 0.7 duration: 16.112s\n",
            "epoch: 1/10 batch: 1100 loss: 0.0 cur_accuracy: 1.0 test_accuracy: 0.61 duration: 16.112s\n",
            "epoch: 1/10 batch: 1200 loss: 0.0060076276 cur_accuracy: 1.0 test_accuracy: 0.65 duration: 16.106s\n",
            "epoch: 1/10 batch: 1300 loss: 0.0 cur_accuracy: 1.0 test_accuracy: 0.65 duration: 16.123s\n",
            "epoch: 1/10 batch: 1400 loss: 0.0 cur_accuracy: 1.0 test_accuracy: 0.68 duration: 16.062s\n",
            "epoch: 1/10 batch: 1500 loss: 0.0 cur_accuracy: 1.0 test_accuracy: 0.78 duration: 16.041s\n",
            "epoch: 2/10 batch: 100 loss: 0.0 cur_accuracy: 1.0 test_accuracy: 0.65 duration: 28.706s\n",
            "epoch: 2/10 batch: 200 loss: 0.0 cur_accuracy: 1.0 test_accuracy: 0.64 duration: 16.150s\n",
            "epoch: 2/10 batch: 300 loss: 6.9012628 cur_accuracy: 0.9 test_accuracy: 0.78 duration: 16.103s\n",
            "epoch: 2/10 batch: 400 loss: 0.0 cur_accuracy: 1.0 test_accuracy: 0.67 duration: 16.140s\n",
            "epoch: 2/10 batch: 500 loss: 0.0 cur_accuracy: 1.0 test_accuracy: 0.75 duration: 16.145s\n",
            "epoch: 2/10 batch: 600 loss: 0.0 cur_accuracy: 1.0 test_accuracy: 0.68 duration: 16.033s\n",
            "epoch: 2/10 batch: 700 loss: 2.996399 cur_accuracy: 0.9 test_accuracy: 0.65 duration: 16.057s\n",
            "epoch: 2/10 batch: 800 loss: 2.622601e-07 cur_accuracy: 1.0 test_accuracy: 0.69 duration: 16.036s\n",
            "epoch: 2/10 batch: 900 loss: 0.0 cur_accuracy: 1.0 test_accuracy: 0.61 duration: 16.113s\n",
            "epoch: 2/10 batch: 1000 loss: 8.612934 cur_accuracy: 0.9 test_accuracy: 0.71 duration: 16.085s\n",
            "epoch: 2/10 batch: 1100 loss: 0.0 cur_accuracy: 1.0 test_accuracy: 0.68 duration: 16.134s\n",
            "epoch: 2/10 batch: 1200 loss: 0.07505933 cur_accuracy: 0.9 test_accuracy: 0.7 duration: 16.097s\n",
            "epoch: 2/10 batch: 1300 loss: 0.0 cur_accuracy: 1.0 test_accuracy: 0.62 duration: 16.081s\n",
            "epoch: 2/10 batch: 1400 loss: 1.5395553 cur_accuracy: 0.9 test_accuracy: 0.68 duration: 16.128s\n",
            "epoch: 2/10 batch: 1500 loss: 8.8214483e-07 cur_accuracy: 1.0 test_accuracy: 0.76 duration: 16.052s\n",
            "epoch: 3/10 batch: 100 loss: 18.007473 cur_accuracy: 0.6 test_accuracy: 0.65 duration: 28.693s\n",
            "epoch: 3/10 batch: 200 loss: 1.2927599 cur_accuracy: 0.9 test_accuracy: 0.71 duration: 16.028s\n",
            "epoch: 3/10 batch: 300 loss: 10.5917 cur_accuracy: 0.8 test_accuracy: 0.7 duration: 16.114s\n",
            "epoch: 3/10 batch: 400 loss: 0.0 cur_accuracy: 1.0 test_accuracy: 0.67 duration: 16.080s\n",
            "epoch: 3/10 batch: 500 loss: 4.413919 cur_accuracy: 0.9 test_accuracy: 0.65 duration: 16.057s\n",
            "epoch: 3/10 batch: 600 loss: 0.0 cur_accuracy: 1.0 test_accuracy: 0.69 duration: 16.082s\n",
            "epoch: 3/10 batch: 700 loss: 0.002238646 cur_accuracy: 1.0 test_accuracy: 0.62 duration: 16.077s\n",
            "epoch: 3/10 batch: 800 loss: 0.0 cur_accuracy: 1.0 test_accuracy: 0.69 duration: 16.023s\n",
            "epoch: 3/10 batch: 900 loss: 4.3868437 cur_accuracy: 0.9 test_accuracy: 0.7 duration: 16.061s\n",
            "epoch: 3/10 batch: 1000 loss: 0.0 cur_accuracy: 1.0 test_accuracy: 0.75 duration: 16.056s\n",
            "epoch: 3/10 batch: 1100 loss: 0.0 cur_accuracy: 1.0 test_accuracy: 0.62 duration: 16.038s\n",
            "epoch: 3/10 batch: 1200 loss: 0.0 cur_accuracy: 1.0 test_accuracy: 0.58 duration: 16.072s\n",
            "epoch: 3/10 batch: 1300 loss: 15.581525 cur_accuracy: 0.9 test_accuracy: 0.62 duration: 16.074s\n",
            "epoch: 3/10 batch: 1400 loss: 0.0 cur_accuracy: 1.0 test_accuracy: 0.64 duration: 16.073s\n",
            "epoch: 3/10 batch: 1500 loss: 2.2396483 cur_accuracy: 0.9 test_accuracy: 0.69 duration: 16.038s\n",
            "epoch: 4/10 batch: 100 loss: 0.18539059 cur_accuracy: 0.9 test_accuracy: 0.61 duration: 28.723s\n"
          ],
          "name": "stdout"
        },
        {
          "output_type": "stream",
          "text": [
            "epoch: 4/10 batch: 200 loss: 4.5195417 cur_accuracy: 0.9 test_accuracy: 0.65 duration: 16.044s\n",
            "epoch: 4/10 batch: 300 loss: 0.0 cur_accuracy: 1.0 test_accuracy: 0.71 duration: 16.044s\n",
            "epoch: 4/10 batch: 400 loss: 15.781122 cur_accuracy: 0.9 test_accuracy: 0.67 duration: 16.042s\n",
            "epoch: 4/10 batch: 500 loss: 0.0 cur_accuracy: 1.0 test_accuracy: 0.73 duration: 16.065s\n",
            "epoch: 4/10 batch: 600 loss: 0.0 cur_accuracy: 1.0 test_accuracy: 0.62 duration: 16.093s\n",
            "epoch: 4/10 batch: 700 loss: 6.079655e-07 cur_accuracy: 1.0 test_accuracy: 0.64 duration: 16.055s\n",
            "epoch: 4/10 batch: 800 loss: 2.4912646 cur_accuracy: 0.9 test_accuracy: 0.67 duration: 16.030s\n",
            "epoch: 4/10 batch: 900 loss: 0.0002536246 cur_accuracy: 1.0 test_accuracy: 0.69 duration: 16.039s\n",
            "epoch: 4/10 batch: 1000 loss: 0.0 cur_accuracy: 1.0 test_accuracy: 0.68 duration: 16.018s\n",
            "epoch: 4/10 batch: 1100 loss: 73.440125 cur_accuracy: 0.7 test_accuracy: 0.59 duration: 16.069s\n",
            "epoch: 4/10 batch: 1200 loss: 15.445734 cur_accuracy: 0.7 test_accuracy: 0.69 duration: 16.091s\n",
            "epoch: 4/10 batch: 1300 loss: 16.402742 cur_accuracy: 0.7 test_accuracy: 0.56 duration: 16.038s\n",
            "epoch: 4/10 batch: 1400 loss: 0.00038700222 cur_accuracy: 1.0 test_accuracy: 0.79 duration: 16.004s\n",
            "epoch: 4/10 batch: 1500 loss: 0.0 cur_accuracy: 1.0 test_accuracy: 0.83 duration: 16.038s\n",
            "epoch: 5/10 batch: 100 loss: 3.9899354 cur_accuracy: 0.9 test_accuracy: 0.83 duration: 28.658s\n",
            "epoch: 5/10 batch: 200 loss: 11.192761 cur_accuracy: 0.7 test_accuracy: 0.71 duration: 16.053s\n",
            "epoch: 5/10 batch: 300 loss: 1.7333558 cur_accuracy: 0.9 test_accuracy: 0.71 duration: 16.031s\n",
            "epoch: 5/10 batch: 400 loss: 1.9568024 cur_accuracy: 0.9 test_accuracy: 0.73 duration: 16.026s\n",
            "epoch: 5/10 batch: 500 loss: 0.0 cur_accuracy: 1.0 test_accuracy: 0.71 duration: 16.058s\n",
            "epoch: 5/10 batch: 600 loss: 3.576278e-08 cur_accuracy: 1.0 test_accuracy: 0.7 duration: 15.992s\n",
            "epoch: 5/10 batch: 700 loss: 0.0 cur_accuracy: 1.0 test_accuracy: 0.69 duration: 15.982s\n",
            "epoch: 5/10 batch: 800 loss: 0.0 cur_accuracy: 1.0 test_accuracy: 0.67 duration: 16.025s\n",
            "epoch: 5/10 batch: 900 loss: 4.666322 cur_accuracy: 0.9 test_accuracy: 0.72 duration: 16.060s\n",
            "epoch: 5/10 batch: 1000 loss: 0.0 cur_accuracy: 1.0 test_accuracy: 0.65 duration: 16.107s\n",
            "epoch: 5/10 batch: 1100 loss: 0.0 cur_accuracy: 1.0 test_accuracy: 0.68 duration: 16.124s\n",
            "epoch: 5/10 batch: 1200 loss: 0.0 cur_accuracy: 1.0 test_accuracy: 0.63 duration: 16.020s\n",
            "epoch: 5/10 batch: 1300 loss: 0.37933165 cur_accuracy: 0.9 test_accuracy: 0.62 duration: 16.097s\n",
            "epoch: 5/10 batch: 1400 loss: 0.004773075 cur_accuracy: 1.0 test_accuracy: 0.64 duration: 16.125s\n",
            "epoch: 5/10 batch: 1500 loss: 0.0 cur_accuracy: 1.0 test_accuracy: 0.63 duration: 16.084s\n",
            "epoch: 6/10 batch: 100 loss: 0.0 cur_accuracy: 1.0 test_accuracy: 0.64 duration: 28.705s\n",
            "epoch: 6/10 batch: 200 loss: 0.0 cur_accuracy: 1.0 test_accuracy: 0.63 duration: 16.088s\n",
            "epoch: 6/10 batch: 300 loss: 0.0 cur_accuracy: 1.0 test_accuracy: 0.66 duration: 16.109s\n",
            "epoch: 6/10 batch: 400 loss: 0.0 cur_accuracy: 1.0 test_accuracy: 0.66 duration: 16.089s\n",
            "epoch: 6/10 batch: 500 loss: 40.625526 cur_accuracy: 0.8 test_accuracy: 0.66 duration: 16.036s\n",
            "epoch: 6/10 batch: 600 loss: 0.0 cur_accuracy: 1.0 test_accuracy: 0.61 duration: 16.008s\n",
            "epoch: 6/10 batch: 700 loss: 0.0 cur_accuracy: 1.0 test_accuracy: 0.64 duration: 16.068s\n",
            "epoch: 6/10 batch: 800 loss: 17.668623 cur_accuracy: 0.8 test_accuracy: 0.72 duration: 16.099s\n",
            "epoch: 6/10 batch: 900 loss: 0.0 cur_accuracy: 1.0 test_accuracy: 0.73 duration: 16.053s\n",
            "epoch: 6/10 batch: 1000 loss: 0.0 cur_accuracy: 1.0 test_accuracy: 0.64 duration: 16.040s\n",
            "epoch: 6/10 batch: 1100 loss: 10.752815 cur_accuracy: 0.7 test_accuracy: 0.63 duration: 16.029s\n",
            "epoch: 6/10 batch: 1200 loss: 2.6723084 cur_accuracy: 0.9 test_accuracy: 0.73 duration: 16.034s\n",
            "epoch: 6/10 batch: 1300 loss: 3.5053163 cur_accuracy: 0.9 test_accuracy: 0.64 duration: 16.032s\n",
            "epoch: 6/10 batch: 1400 loss: 0.0 cur_accuracy: 1.0 test_accuracy: 0.54 duration: 15.995s\n",
            "epoch: 6/10 batch: 1500 loss: 0.0 cur_accuracy: 1.0 test_accuracy: 0.55 duration: 16.068s\n",
            "epoch: 7/10 batch: 100 loss: 5.5073174e-06 cur_accuracy: 1.0 test_accuracy: 0.57 duration: 28.538s\n"
          ],
          "name": "stdout"
        },
        {
          "output_type": "stream",
          "text": [
            "epoch: 7/10 batch: 200 loss: 0.0 cur_accuracy: 1.0 test_accuracy: 0.57 duration: 16.070s\n",
            "epoch: 7/10 batch: 300 loss: 2.8610188e-07 cur_accuracy: 1.0 test_accuracy: 0.63 duration: 16.051s\n",
            "epoch: 7/10 batch: 400 loss: 0.0 cur_accuracy: 1.0 test_accuracy: 0.62 duration: 16.013s\n",
            "epoch: 7/10 batch: 500 loss: 0.0 cur_accuracy: 1.0 test_accuracy: 0.69 duration: 16.027s\n",
            "epoch: 7/10 batch: 600 loss: 0.0 cur_accuracy: 1.0 test_accuracy: 0.77 duration: 16.031s\n",
            "epoch: 7/10 batch: 700 loss: 0.0 cur_accuracy: 1.0 test_accuracy: 0.57 duration: 16.047s\n",
            "epoch: 7/10 batch: 800 loss: 0.0 cur_accuracy: 1.0 test_accuracy: 0.68 duration: 16.044s\n",
            "epoch: 7/10 batch: 900 loss: 0.0 cur_accuracy: 1.0 test_accuracy: 0.68 duration: 16.054s\n",
            "epoch: 7/10 batch: 1000 loss: 0.0 cur_accuracy: 1.0 test_accuracy: 0.64 duration: 16.051s\n",
            "epoch: 7/10 batch: 1100 loss: 0.0 cur_accuracy: 1.0 test_accuracy: 0.69 duration: 16.074s\n",
            "epoch: 7/10 batch: 1200 loss: 0.0 cur_accuracy: 1.0 test_accuracy: 0.55 duration: 16.112s\n",
            "epoch: 7/10 batch: 1300 loss: 0.0 cur_accuracy: 1.0 test_accuracy: 0.58 duration: 16.068s\n",
            "epoch: 7/10 batch: 1400 loss: 0.0 cur_accuracy: 1.0 test_accuracy: 0.65 duration: 16.106s\n",
            "epoch: 7/10 batch: 1500 loss: 0.0 cur_accuracy: 1.0 test_accuracy: 0.57 duration: 16.061s\n",
            "epoch: 8/10 batch: 100 loss: 5.2157836 cur_accuracy: 0.9 test_accuracy: 0.72 duration: 28.638s\n",
            "epoch: 8/10 batch: 200 loss: 0.0 cur_accuracy: 1.0 test_accuracy: 0.66 duration: 16.029s\n",
            "epoch: 8/10 batch: 300 loss: 12.192094 cur_accuracy: 0.9 test_accuracy: 0.6 duration: 16.018s\n",
            "epoch: 8/10 batch: 400 loss: 0.0 cur_accuracy: 1.0 test_accuracy: 0.63 duration: 15.993s\n",
            "epoch: 8/10 batch: 500 loss: 0.0 cur_accuracy: 1.0 test_accuracy: 0.65 duration: 16.005s\n",
            "epoch: 8/10 batch: 600 loss: 0.0 cur_accuracy: 1.0 test_accuracy: 0.62 duration: 16.138s\n",
            "epoch: 8/10 batch: 700 loss: 0.0 cur_accuracy: 1.0 test_accuracy: 0.61 duration: 15.985s\n",
            "epoch: 8/10 batch: 800 loss: 0.0 cur_accuracy: 1.0 test_accuracy: 0.64 duration: 16.040s\n",
            "epoch: 8/10 batch: 900 loss: 0.94087124 cur_accuracy: 0.9 test_accuracy: 0.71 duration: 16.029s\n",
            "epoch: 8/10 batch: 1000 loss: 8.670697 cur_accuracy: 0.9 test_accuracy: 0.71 duration: 16.060s\n",
            "epoch: 8/10 batch: 1100 loss: 0.0 cur_accuracy: 1.0 test_accuracy: 0.6 duration: 16.012s\n",
            "epoch: 8/10 batch: 1200 loss: 0.0 cur_accuracy: 1.0 test_accuracy: 0.64 duration: 15.978s\n",
            "epoch: 8/10 batch: 1300 loss: 0.0 cur_accuracy: 1.0 test_accuracy: 0.7 duration: 16.055s\n",
            "epoch: 8/10 batch: 1400 loss: 0.0 cur_accuracy: 1.0 test_accuracy: 0.64 duration: 16.036s\n",
            "epoch: 8/10 batch: 1500 loss: 0.0 cur_accuracy: 1.0 test_accuracy: 0.68 duration: 16.017s\n",
            "epoch: 9/10 batch: 100 loss: 0.0 cur_accuracy: 1.0 test_accuracy: 0.69 duration: 28.683s\n",
            "epoch: 9/10 batch: 200 loss: 0.0 cur_accuracy: 1.0 test_accuracy: 0.62 duration: 16.034s\n",
            "epoch: 9/10 batch: 300 loss: 0.0 cur_accuracy: 1.0 test_accuracy: 0.63 duration: 16.107s\n",
            "epoch: 9/10 batch: 400 loss: 0.0 cur_accuracy: 1.0 test_accuracy: 0.68 duration: 16.130s\n",
            "epoch: 9/10 batch: 500 loss: 0.0 cur_accuracy: 1.0 test_accuracy: 0.72 duration: 16.044s\n",
            "epoch: 9/10 batch: 600 loss: 0.0 cur_accuracy: 1.0 test_accuracy: 0.7 duration: 16.117s\n",
            "epoch: 9/10 batch: 700 loss: 0.0 cur_accuracy: 1.0 test_accuracy: 0.6 duration: 16.060s\n",
            "epoch: 9/10 batch: 800 loss: 15.719755 cur_accuracy: 0.8 test_accuracy: 0.59 duration: 16.079s\n",
            "epoch: 9/10 batch: 900 loss: 0.0 cur_accuracy: 1.0 test_accuracy: 0.73 duration: 16.066s\n",
            "epoch: 9/10 batch: 1000 loss: 0.0 cur_accuracy: 1.0 test_accuracy: 0.67 duration: 16.069s\n",
            "epoch: 9/10 batch: 1100 loss: 0.0 cur_accuracy: 1.0 test_accuracy: 0.71 duration: 16.075s\n",
            "epoch: 9/10 batch: 1200 loss: 0.0 cur_accuracy: 1.0 test_accuracy: 0.62 duration: 16.164s\n",
            "epoch: 9/10 batch: 1300 loss: 0.0 cur_accuracy: 1.0 test_accuracy: 0.58 duration: 16.075s\n",
            "epoch: 9/10 batch: 1400 loss: 0.0 cur_accuracy: 1.0 test_accuracy: 0.68 duration: 16.035s\n",
            "epoch: 9/10 batch: 1500 loss: 0.0 cur_accuracy: 1.0 test_accuracy: 0.69 duration: 15.990s\n",
            "epoch: 10/10 batch: 100 loss: 0.0 cur_accuracy: 1.0 test_accuracy: 0.61 duration: 28.676s\n",
            "epoch: 10/10 batch: 200 loss: 0.0 cur_accuracy: 1.0 test_accuracy: 0.58 duration: 16.062s\n"
          ],
          "name": "stdout"
        },
        {
          "output_type": "stream",
          "text": [
            "epoch: 10/10 batch: 300 loss: 0.0 cur_accuracy: 1.0 test_accuracy: 0.63 duration: 16.023s\n",
            "epoch: 10/10 batch: 400 loss: 0.0 cur_accuracy: 1.0 test_accuracy: 0.7 duration: 16.029s\n",
            "epoch: 10/10 batch: 500 loss: 15.7164135 cur_accuracy: 0.9 test_accuracy: 0.69 duration: 16.061s\n",
            "epoch: 10/10 batch: 600 loss: 0.0 cur_accuracy: 1.0 test_accuracy: 0.67 duration: 16.096s\n",
            "epoch: 10/10 batch: 700 loss: 0.0 cur_accuracy: 1.0 test_accuracy: 0.63 duration: 16.066s\n",
            "epoch: 10/10 batch: 800 loss: 0.0 cur_accuracy: 1.0 test_accuracy: 0.65 duration: 16.082s\n",
            "epoch: 10/10 batch: 900 loss: 0.0 cur_accuracy: 1.0 test_accuracy: 0.7 duration: 15.992s\n",
            "epoch: 10/10 batch: 1000 loss: 3.3480408 cur_accuracy: 0.9 test_accuracy: 0.79 duration: 16.016s\n",
            "epoch: 10/10 batch: 1100 loss: 0.0 cur_accuracy: 1.0 test_accuracy: 0.68 duration: 16.090s\n",
            "epoch: 10/10 batch: 1200 loss: 0.0 cur_accuracy: 1.0 test_accuracy: 0.71 duration: 16.035s\n",
            "epoch: 10/10 batch: 1300 loss: 0.0 cur_accuracy: 1.0 test_accuracy: 0.69 duration: 16.034s\n",
            "epoch: 10/10 batch: 1400 loss: 0.0 cur_accuracy: 1.0 test_accuracy: 0.74 duration: 15.970s\n",
            "epoch: 10/10 batch: 1500 loss: 0.0 cur_accuracy: 1.0 test_accuracy: 0.64 duration: 16.101s\n",
            "Done.\n"
          ],
          "name": "stdout"
        },
        {
          "output_type": "execute_result",
          "data": {
            "text/plain": [
              "'checkpoints/cnnGesture/model'"
            ]
          },
          "metadata": {
            "tags": []
          },
          "execution_count": 8
        }
      ]
    },
    {
      "metadata": {
        "id": "xG409xEyGdAW",
        "colab_type": "code",
        "colab": {
          "base_uri": "https://localhost:8080/",
          "height": 111
        },
        "outputId": "0a81f9f6-e06d-4c9b-fff4-7f1a096a9b00"
      },
      "cell_type": "code",
      "source": [
        "begin = random.randrange(0, test_total-10)\n",
        "end = begin + 10\n",
        "res, accuracy_val = sessRes.run([predict, accuracy], feed_dict = {img_holder: test_images[begin:end], lbl_holder:test_labels[begin:end], train: False})\n",
        "titles = [str(np.argmax(test_labels[i])) + '->' + str(res[i-begin]) for i in range(begin, end)] \n",
        "plotImg(test_images[begin:end], titles)\n",
        "print('Accuracy:', accuracy_val)"
      ],
      "execution_count": 0,
      "outputs": [
        {
          "output_type": "display_data",
          "data": {
            "image/png": "[encoded data removed]",
            "text/plain": [
              "<matplotlib.figure.Figure at 0x7f749e96e908>"
            ]
          },
          "metadata": {
            "tags": []
          }
        },
        {
          "output_type": "stream",
          "text": [
            "Accuracy: 0.7\n"
          ],
          "name": "stdout"
        }
      ]
    },
    {
      "metadata": {
        "id": "QKzVBejXTsYG",
        "colab_type": "code",
        "colab": {}
      },
      "cell_type": "code",
      "source": [
        "sessRes.close()"
      ],
      "execution_count": 0,
      "outputs": []
    },
    {
      "metadata": {
        "id": "STIvxtMuGdAc",
        "colab_type": "code",
        "colab": {}
      },
      "cell_type": "code",
      "source": [
        "# # memory footprint support libraries/code\n",
        "# !ln -sf /opt/bin/nvidia-smi /usr/bin/nvidia-smi\n",
        "# !pip install gputil\n",
        "# !pip install psutil\n",
        "# !pip install humanize\n",
        "# import psutil\n",
        "# import humanize\n",
        "# import os\n",
        "# import GPUtil as GPU\n",
        "# GPUs = GPU.getGPUs()\n",
        "# # XXX: only one GPU on Colab and isn’t guaranteed\n",
        "# gpu = GPUs[0]\n",
        "# def printm():\n",
        "#  process = psutil.Process(os.getpid())\n",
        "#  print(\"Gen RAM Free: \" + humanize.naturalsize( psutil.virtual_memory().available ), \" I Proc size: \" + humanize.naturalsize( process.memory_info().rss))\n",
        "#  print(\"GPU RAM Free: {0:.0f}MB | Used: {1:.0f}MB | Util {2:3.0f}% | Total {3:.0f}MB\".format(gpu.memoryFree, gpu.memoryUsed, gpu.memoryUtil*100, gpu.memoryTotal))\n",
        "# printm()"
      ],
      "execution_count": 0,
      "outputs": []
    },
    {
      "metadata": {
        "id": "VNY_y6KMNlrf",
        "colab_type": "code",
        "colab": {
          "base_uri": "https://localhost:8080/",
          "height": 153
        },
        "outputId": "6be8c866-a8bb-466a-c6c4-4e60dd7db365"
      },
      "cell_type": "code",
      "source": [
        "#------------------------------------------------\n",
        "#    Replace google drive trained model with new one\n",
        "#------------------------------------------------\n",
        "!rm -rf Hybrid7.zip\n",
        "!zip -r Hybrid7.zip checkpoints\n",
        "# Install the PyDrive wrapper & import libraries.\n",
        "# This only needs to be done once in a notebook.\n",
        "!pip install -U -q PyDrive\n",
        "from pydrive.auth import GoogleAuth\n",
        "from pydrive.drive import GoogleDrive\n",
        "from google.colab import auth\n",
        "from oauth2client.client import GoogleCredentials\n",
        "\n",
        "# Authenticate and create the PyDrive client.\n",
        "# This only needs to be done once in a notebook.\n",
        "auth.authenticate_user()\n",
        "gauth = GoogleAuth()\n",
        "gauth.credentials = GoogleCredentials.get_application_default()\n",
        "drive = GoogleDrive(gauth)\n",
        "\n",
        "file_list = drive.ListFile(\n",
        "    {'q': \"'19lVhhib3mhWMW_eQsFFoOQLVsmfN6SB3' in parents\"}).GetList()\n",
        "\n",
        "for f in file_list:\n",
        "  # delete old one\n",
        "  fname = f['title']\n",
        "  print('Deleting', fname)\n",
        "  f.Delete()\n",
        "file_metadata = {'title': 'Hybrid7.zip', \"parents\": [{\"id\": '19lVhhib3mhWMW_eQsFFoOQLVsmfN6SB3', \"kind\": \"drive#childList\"}]}\n",
        "# Create & upload a file.\n",
        "uploaded = drive.CreateFile(file_metadata)\n",
        "uploaded.SetContentFile('Hybrid7.zip')\n",
        "uploaded.Upload()\n",
        "print('Uploaded file with ID {}'.format(uploaded.get('id')))"
      ],
      "execution_count": 0,
      "outputs": [
        {
          "output_type": "stream",
          "text": [
            "  adding: checkpoints/ (stored 0%)\r\n",
            "  adding: checkpoints/cnnGesture/ (stored 0%)\r\n",
            "  adding: checkpoints/cnnGesture/checkpoint (deflated 39%)\n",
            "  adding: checkpoints/cnnGesture/model.data-00000-of-00001 (deflated 19%)\n",
            "  adding: checkpoints/cnnGesture/model.index (deflated 50%)\n",
            "  adding: checkpoints/cnnGesture/model.meta (deflated 90%)\n",
            "Deleting Hybrid7.zip\n",
            "Uploaded file with ID 193XclOXHlbRnU2E8EHlpXbmXcib4WRJg\n"
          ],
          "name": "stdout"
        }
      ]
    },
    {
      "metadata": {
        "id": "LAGbyy4ltk56",
        "colab_type": "code",
        "colab": {}
      },
      "cell_type": "code",
      "source": [
        ""
      ],
      "execution_count": 0,
      "outputs": []
    }
  ]
}